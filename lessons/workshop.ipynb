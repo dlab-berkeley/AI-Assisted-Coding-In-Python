{
  "cells": [
    {
      "cell_type": "markdown",
      "metadata": {},
      "source": [
        "# D-Lab Copilot Assisted Coding Workshop - Python Edition\n",
        "\n",
        "## Learning Objectives\n",
        "\n",
        "<div class=\"alert alert-success\">  \n",
        "    \n",
        "### Learning Objectives \n",
        "    \n",
        "1. Set-up and navigate Visual Studio Code with Python\n",
        "2. Take advantage of the main functionalities of GitHub Copilot for coding\n",
        "3. Understand some of the strengths and weaknesses of AI coding assistants\n",
        "</div>\n",
        "\n",
        "Throughout this workshop, we will use the following icons:\n",
        "\n",
        "🔔 **Question**: A quick question to help you understand what's going on.\n",
        "\n",
        "🥊 **Challenge**: Interactive exercise. We'll go through these in the workshop! Solutions to the challenges can be found in the solutions folder.\n",
        "\n",
        "⚠️ **Warning**: Heads-up about tricky stuff or common mistakes.\n",
        "\n",
        "💡 **Tip**: How to do something a bit more efficiently or effectively."
      ]
    },
    {
      "cell_type": "markdown",
      "metadata": {},
      "source": [
        "## 1. Getting Comfortable with Visual Studio Code for Python\n",
        "\n",
        "In our workshop, we will be using GitHub codespaces to run Visual Studio Code in the cloud. This means that you do not need to install anything on your computer to participate in the workshop. However, since you will likely want to use Visual Studio Code on your own computer in the future, we will walk you through how to set up Visual Studio Code for Python development.\n",
        "\n",
        "When you start VS Code on your own computer, you will be greeted by a Welcome screen that prompts you to start by opening a file or folder. Click `Open Folder` and open the GitHub-Copilot workshop folder that you downloaded from GitHub.\n",
        "\n",
        "Now that you have opened a folder, you will see an `Explorer` panel appear with all of the files within the folder you just opened. Click on the `workshop.ipynb` file to open it. You can open and close the `Explorer` panel by clicking on the icon that looks like two pieces of paper in the left-hand sidebar.\n",
        "\n",
        "💡 **Tip**: When you are on your own computer in Visual Studio Code, you may notice the text sometimes goes off the screen if the line is very long. You can change your VS Code settings to make it so that the text is automatically wrapped. To do this:\n",
        "1. Press `Ctrl + ,` or `Cmd + ,` to open the settings (You can also click on the cog icon in the bottom left corner of the window and then click `Settings`).\n",
        "2. Search for word \"wrap\" in the search bar.\n",
        "3. In the dropdown menu for `Editor: Word Wrap`, select on.\n",
        "For more tips and tricks like this, check out the extensive and user-friendly Visual Studio Code documentation (https://code.visualstudio.com/docs) or ask GitHub Copilot!\n",
        "\n",
        "### Visual Studio Code Extensions for Python\n",
        "**Extensions** are add-ons that you can install to add additional features and tools to Visual Studio Code. You can find extensions by clicking on the square icon with four squares in the left-hand sidebar to open the `Extensions` panel. We will be using the following extensions in this workshop:\n",
        "1. Python - This extension provides support for the Python programming language and includes IntelliSense, debugging, and Jupyter notebook support.\n",
        "2. Jupyter - This extension provides Jupyter notebook support within VS Code.\n",
        "3. GitHub Copilot - This extension is what gives us access to Copilot in VS Code\n",
        "\n",
        "In the search bar, type Python. Click on the Python extension and then click the green `Install` button. Repeat for the Jupyter and GitHub Copilot extensions. When you install the GitHub Copilot extension you will be prompted to login to your GitHub account. This is necessary to use Copilot.\n",
        "\n",
        "### Running code in Visual Studio Code with Jupyter\n",
        "\n",
        "Now that we have all the extensions we need, we can start running Python code! In Jupyter notebooks, you can run a cell by clicking on it and pressing `Shift + Enter`. You can also click the \"Run\" button that appears to the left of each code cell.\n",
        "\n",
        "Run the Python code below and see what happens."
      ]
    },
    {
      "cell_type": "code",
      "execution_count": null,
      "metadata": {},
      "outputs": [],
      "source": [
        "print(\"Yippee!\")"
      ]
    },
    {
      "cell_type": "markdown",
      "metadata": {},
      "source": [
        "When you run this code you will notice that the output appears directly below the cell. This is one of the advantages of using Jupyter notebooks - the output is displayed inline with your code.\n",
        "\n",
        "### Installing and importing packages\n",
        "\n",
        "The next steps are not necessary for this workshop, because we are using the GitHub codespace where everything is set-up for you. However, if you are working on your own computer, you will need to install some packages.\n",
        "\n",
        "First, let's make sure we have the packages we need. We will use pandas for data manipulation, matplotlib and seaborn for visualization, and numpy for numerical operations."
      ]
    },
    {
      "cell_type": "code",
      "execution_count": null,
      "metadata": {},
      "outputs": [],
      "source": [
        "# If you haven't installed these packages before, uncomment the lines below\n",
        "# !pip install pandas matplotlib seaborn numpy scipy scikit-learn"
      ]
    },
    {
      "cell_type": "markdown",
      "metadata": {},
      "source": [
        "💡 **Tip**: The exclamation mark (!) at the beginning of the line tells Jupyter to run the command in the system shell rather than as Python code. This is how we install packages from within a notebook.\n",
        "\n",
        "Let's import the libraries we'll need and test that everything is working:"
      ]
    },
    {
      "cell_type": "code",
      "execution_count": null,
      "metadata": {},
      "outputs": [],
      "source": [
        "import pandas as pd\n",
        "import matplotlib.pyplot as plt\n",
        "import seaborn as sns\n",
        "import numpy as np\n",
        "\n",
        "# Set up plotting\n",
        "plt.style.use('default')\n",
        "sns.set_palette(\"husl\")\n",
        "\n",
        "# Create a tiny dataframe to test\n",
        "tiny_df = pd.DataFrame({'x': [1, 2, 3], 'y': [4, 5, 6]})\n",
        "\n",
        "# Plot the data\n",
        "plt.figure(figsize=(6, 4))\n",
        "plt.scatter(tiny_df['x'], tiny_df['y'])\n",
        "plt.xlabel('x')\n",
        "plt.ylabel('y')\n",
        "plt.title('Test Plot')\n",
        "plt.show()"
      ]
    },
    {
      "cell_type": "markdown",
      "metadata": {},
      "source": [
        "## 2. Introduction to GitHub Copilot\n",
        "\n",
        "Now that we have set up Visual Studio Code, we can start using GitHub Copilot!\n",
        "\n",
        "For our examples, we will be using data from [Gapminder](https://www.gapminder.org/), an educational non-profit. It includes data for 142 countries, with values for life expectancy, GDP per capita, and population, every five years, from 1952 to 2007."
      ]
    },
    {
      "cell_type": "code",
      "execution_count": null,
      "metadata": {},
      "outputs": [],
      "source": [
        "# Read in data\n",
        "gap = pd.read_csv(\"data/gapminder.csv\")\n",
        "gap.head()"
      ]
    },
    {
      "cell_type": "markdown",
      "metadata": {},
      "source": [
        "⚠️ **Warning**: By default, Jupyter notebooks will set the working directory to the location of the notebook file. This is convenient for accessing data files in the same directory structure. You can check where your working directory is by running the code below:"
      ]
    },
    {
      "cell_type": "code",
      "execution_count": null,
      "metadata": {},
      "outputs": [],
      "source": [
        "import os\n",
        "print(os.getcwd())"
      ]
    },
    {
      "cell_type": "markdown",
      "metadata": {},
      "source": [
        "### GitHub Copilot Chat\n",
        "\n",
        "GitHub Copilot chat allows you to directly ask questions to GitHub Copilot. To open the chat, click `Ctrl + Shift + I` or `Cmd + Shift + I`. You can ask Copilot to generate code, explain code, or provide examples in this chat. For easy access, you can optionally add a \"chat\" button to your tool bar on the left by dragging the Copilot chat window on the right to your toolbar.\n",
        "\n",
        "💡 **Tip**: A common question we get is: what can Copilot \"see\" of my files and code? By default, Copilot can see code that you have highlighted or are working on in the open file. If you want Copilot to ignore your open file, you can click the eye button next to \"Current file\" in the chat to disable current file context. Copilot cannot see all the files in your folder automatically, however you can tell Copilot to look at other files in your project by clicking the paperclip button in the chat to add context. Copilot learns from everything you show it, so the more you use it, the better it will get.\n",
        "\n",
        "### 🥊 Challenge 1:\n",
        "Open the chat, highlight the code in the cell below, and ask Copilot to explain it by typing a question into the chat (e.g., \"Explain this code, please\"), no need to copy the code in, highlighting is enough."
      ]
    },
    {
      "cell_type": "code",
      "execution_count": null,
      "metadata": {},
      "outputs": [],
      "source": [
        "gap.groupby(['continent', 'year'])['lifeExp'].mean().reset_index().pivot(index='continent', columns='year', values='lifeExp')"
      ]
    },
    {
      "cell_type": "markdown",
      "metadata": {},
      "source": [
        "Copilot can also help us debug errors in our code. Below I have written some code to create histograms of the \"lifeExp\" and \"gdpPercap\" columns in the `gap` dataframe. However, I have made three mistakes in the code. Can you find them? Run the code and then copy the error into Copilot and ask it to help you debug it."
      ]
    },
    {
      "cell_type": "code",
      "execution_count": null,
      "metadata": {},
      "outputs": [],
      "source": [
        "plt.figure(figsize=(10, 6))\n",
        "plt.hist(gap['gdpPercap'], bins=30, alpha=0.7)\n",
        "plt.axhline(y=gap['gdpPercap'].mean(), color='red', linestyle='--')\n",
        "plt.xlabel('GDP per Capita')\n",
        "plt.title('Histogram of GDP per Capita')\n",
        "plt.colorbar()  # This doesn't make sense for a histogram\n",
        "plt.show()"
      ]
    },
    {
      "cell_type": "markdown",
      "metadata": {},
      "source": [
        "💡 **Tip**: Copilot may suggest various improvements when debugging. This kind of \"conversation\" is an important part of working with Copilot.\n",
        "\n",
        "If you hover your cursor over the code chunk generated by Copilot you will see in the upper-right hand corner of the cell some buttons including (1) an `Apply in editor` button that will apply the edits to the code in the window, (2) an `Insert at cursor` button that you can click to insert the code at the cursor in your open file, and (3) a `Copy` button that you can click to copy the code to your clipboard. We generally recommend using buttons (2) and (3) as button (1) can sometimes take a while and be a bit glitchy. Use button (2) `Insert at cursor` to insert the corrected code below."
      ]
    },
    {
      "cell_type": "code",
      "execution_count": null,
      "metadata": {},
      "outputs": [],
      "source": [
        "# Add corrected code here"
      ]
    },
    {
      "cell_type": "markdown",
      "metadata": {},
      "source": [
        "You may notice that in addition to fixing errors, Copilot also made some other improvements to the code. For example, it might have suggested better bin sizes or improved the styling. These improvements can be helpful, but you should always check to make sure these changes make sense for your data."
      ]
    },
    {
      "cell_type": "code",
      "execution_count": null,
      "metadata": {},
      "outputs": [],
      "source": [
        "# Example corrected code\n",
        "plt.figure(figsize=(10, 6))\n",
        "plt.hist(gap['gdpPercap'], bins=30, alpha=0.7, color='skyblue', edgecolor='black')\n",
        "plt.axvline(x=gap['gdpPercap'].mean(), color='red', linestyle='--', label='Mean')\n",
        "plt.xlabel('GDP per Capita')\n",
        "plt.ylabel('Frequency')\n",
        "plt.title('Histogram of GDP per Capita')\n",
        "plt.legend()\n",
        "plt.show()"
      ]
    },
    {
      "cell_type": "markdown",
      "metadata": {},
      "source": [
        "### In-line Chat\n",
        "You can start an in-line chat with Copilot by pressing `Ctrl + I` or `Cmd + I`. This will allow you to ask Copilot for help with the code you are currently writing. When you activate in-line chat while highlighting code, Copilot will edit the code in the highlighted area. To exit in-line chat, press `Esc`.\n",
        "\n",
        "### 🥊 Challenge 2:\n",
        "Highlight this matplotlib code, press `Ctrl + I` or `Cmd + I`, and ask Copilot to change the background of the plot to your favorite color (e.g. \"purple\"), increase the text size of the x and y-axis titles to size 14, and make the title center aligned (you can highlight this prompt and copy it word for word into the inline chat). This is super helpful for when you can't remember what the exact syntax is for a specific matplotlib element.\n",
        "\n",
        "Click \"Accept\" to accept the changes Copilot suggests. You can also click \"Discard\" to discard the changes, \"Rerun Request\" to ask Copilot to generate new code, or \"Toggle changes\" to see the changes Copilot made.\n",
        "\n",
        "Accept the changes and run the cell to see your new plot."
      ]
    },
    {
      "cell_type": "code",
      "execution_count": null,
      "metadata": {},
      "outputs": [],
      "source": [
        "plt.figure(figsize=(10, 6))\n",
        "plt.hist(gap['gdpPercap'], bins=30, color='blue', edgecolor='black')\n",
        "plt.xlabel('GDP per Capita')\n",
        "plt.title('Histogram of GDP per Capita')\n",
        "plt.show()"
      ]
    },
    {
      "cell_type": "markdown",
      "metadata": {},
      "source": [
        "⚠️ **Warning**: Sometimes you may notice that Copilot doesn't do everything you told it to. This is because Copilot is still learning and may not always understand what you are asking for. You can always ask it again or make the changes yourself. For example, when you asked to change the background, it may have changed the figure background when what you really wanted was to change the plot area background, or vice versa; in that case, you would have to update your request to be more specific.\n",
        "\n",
        "### In-line suggestions\n",
        "Another handy feature of Copilot is in-line suggestions as you type. These suggestions are known as \"ghost text\" and appear in a lighter gray text after your cursor. You can accept them by pressing `Tab` or ignore them by continuing to type (or click `Esc` to reject them outright). These suggestions can be very helpful for completing code quickly. Suggestions are automatically triggered by the code you write, based on context from the code you have already written. You may notice as you use Copilot more often that the suggestions even learn your \"style\" of coding.\n",
        "\n",
        "### 🥊 Challenge 3:\n",
        "Start typing `unique_countries = gap['country'].` and see what suggestions Copilot gives you. You may need to wait a second for the suggestion to appear or continue typing. Click `Tab` to accept the suggestion. This should complete the code to create a list of unique countries in the `gap` dataframe."
      ]
    },
    {
      "cell_type": "code",
      "execution_count": null,
      "metadata": {},
      "outputs": [],
      "source": [
        "# Start typing here"
      ]
    },
    {
      "cell_type": "markdown",
      "metadata": {},
      "source": [
        "⚠️ **Warning**: Copilot sometimes provides suggestions that are not what you want. You can always ignore the suggestion and continue typing. Copilot can change over time and give different suggestions based on even minor differences in context clues. You can test this out by deleting the line of code you just wrote and typing it again to see if you get the same suggestion.\n",
        "\n",
        "### 🥊 Challenge 4:\n",
        "You can also trigger suggestions by providing comments in your code. These comments allow you to give more detailed information and context for the in-line suggestions. Start typing `# Calculate average gdpPercap and lifeExp grouped by continent for the year 2007` and see what suggestions Copilot gives you. Click `Tab` to accept the suggestion.\n",
        "\n",
        "💡 **Tip**: You may have to start writing code (e.g., `avg_gap = gap`) to trigger the suggestions."
      ]
    },
    {
      "cell_type": "code",
      "execution_count": null,
      "metadata": {},
      "outputs": [],
      "source": [
        "# Calculate average gdpPercap and lifeExp grouped by continent for the year 2007"
      ]
    },
    {
      "cell_type": "markdown",
      "metadata": {},
      "source": [
        "Now you have seen how we can use both the chat, in-line chat, and in-line suggestions to interact with Copilot. So far we have used some simple examples, but Copilot can also help with more complex code.\n",
        "\n",
        "### 🥊 Challenge 5:\n",
        "Here, we have code below that is a bit untidy (missing proper spacing, no comments, long single lines of code). Highlight the code below and in the chat (you can use the in-line or the regular chat) ask Copilot to reformat this code and add comments."
      ]
    },
    {
      "cell_type": "code",
      "execution_count": null,
      "metadata": {},
      "outputs": [],
      "source": [
        "gap_asia=gap[gap['continent']=='Asia'].groupby('year')['lifeExp'].mean().reset_index()\n",
        "plt.figure(figsize=(8,6))\n",
        "plt.plot(gap_asia['year'],gap_asia['lifeExp'])\n",
        "plt.xlabel('Year')\n",
        "plt.ylabel('Life Expectancy')\n",
        "plt.title('Average Life Expectancy in Asia by Year')\n",
        "plt.show()\n",
        "\n",
        "gap_europe=gap[gap['continent']=='Europe'].groupby('year')['lifeExp'].mean().reset_index()\n",
        "plt.figure(figsize=(8,6))\n",
        "plt.plot(gap_europe['year'],gap_europe['lifeExp'])\n",
        "plt.xlabel('Year')\n",
        "plt.ylabel('Life Expectancy')\n",
        "plt.title('Average Life Expectancy in Europe by Year')\n",
        "plt.show()\n",
        "\n",
        "gap_oceania=gap[gap['continent']=='Oceania'].groupby('year')['lifeExp'].mean().reset_index()\n",
        "plt.figure(figsize=(8,6))\n",
        "plt.plot(gap_oceania['year'],gap_oceania['lifeExp'])\n",
        "plt.xlabel('Year')\n",
        "plt.ylabel('Life Expectancy')\n",
        "plt.show()"
      ]
    },
    {
      "cell_type": "markdown",
      "metadata": {},
      "source": [
        "You may notice that you have to do some extra work to complete the clean-up; for example, you may want to remove unnecessary or incorrect comments or add titles that are missing."
      ]
    },
    {
      "cell_type": "code",
      "execution_count": null,
      "metadata": {},
      "outputs": [],
      "source": [
        "# Paste new cleaned code here"
      ]
    },
    {
      "cell_type": "markdown",
      "metadata": {},
      "source": [
        "We can take this clean-up a step further and ask it to make a function from our repetitive code. Highlight the code above and ask Copilot to reduce repetitiveness in the code by turning it into a function that takes in data and a continent name (for some of you, it may have done this automatically in your first try based on how you asked for the clean-up)"
      ]
    },
    {
      "cell_type": "code",
      "execution_count": null,
      "metadata": {},
      "outputs": [],
      "source": [
        "# Paste the new function code here"
      ]
    },
    {
      "cell_type": "markdown",
      "metadata": {},
      "source": [
        "### Avoiding common pitfalls\n",
        "\n",
        "A common pitfall when working with Copilot is using it to generate code without understanding what the code is doing. **Just because code runs without an error does not mean it is correct.** Remember, you are the pilot and Copilot is...the copilot; it is crucial to use your knowledge and expertise to guide your coding decisions. To demonstrate this pitfall, let's ask Copilot to do something very broad: figure out what drives life expectancy."
      ]
    },
    {
      "cell_type": "code",
      "execution_count": null,
      "metadata": {},
      "outputs": [],
      "source": [
        "# Using the chat, ask Copilot to determine the driver of life expectancy in our data"
      ]
    },
    {
      "cell_type": "markdown",
      "metadata": {},
      "source": [
        "You will probably get some code that builds a linear regression model using scikit-learn or statsmodels. For example:"
      ]
    },
    {
      "cell_type": "code",
      "execution_count": null,
      "metadata": {},
      "outputs": [],
      "source": [
        "from sklearn.linear_model import LinearRegression\n",
        "from sklearn.preprocessing import LabelEncoder\n",
        "import statsmodels.api as sm\n",
        "\n",
        "# Prepare the data\n",
        "# Encode categorical variables\n",
        "le_country = LabelEncoder()\n",
        "le_continent = LabelEncoder()\n",
        "\n",
        "gap_encoded = gap.copy()\n",
        "gap_encoded['country_encoded'] = le_country.fit_transform(gap['country'])\n",
        "gap_encoded['continent_encoded'] = le_continent.fit_transform(gap['continent'])\n",
        "\n",
        "# Select features and target\n",
        "X = gap_encoded[['year', 'pop', 'gdpPercap', 'continent_encoded', 'country_encoded']]\n",
        "y = gap_encoded['lifeExp']\n",
        "\n",
        "# Fit the model\n",
        "X_with_const = sm.add_constant(X)\n",
        "model = sm.OLS(y, X_with_const).fit()\n",
        "print(model.summary())"
      ]
    },
    {
      "cell_type": "markdown",
      "metadata": {},
      "source": [
        "What next steps would you take to assess the validity of this model?\n",
        "\n",
        "Next, let's check the residuals of the model to see if they are normally distributed:"
      ]
    },
    {
      "cell_type": "code",
      "execution_count": null,
      "metadata": {},
      "outputs": [],
      "source": [
        "import scipy.stats as stats\n",
        "\n",
        "# Get residuals\n",
        "residuals = model.resid\n",
        "\n",
        "# Q-Q plot for residuals\n",
        "plt.figure(figsize=(8, 6))\n",
        "stats.probplot(residuals, dist=\"norm\", plot=plt)\n",
        "plt.title('Q-Q Plot of Residuals')\n",
        "plt.show()"
      ]
    },
    {
      "cell_type": "markdown",
      "metadata": {},
      "source": [
        "The residuals do not appear to be normally distributed (i.e., the points deviate from the Q-Q line). Let's do some additional data visualization to figure out what is going on:"
      ]
    },
    {
      "cell_type": "code",
      "execution_count": null,
      "metadata": {},
      "outputs": [],
      "source": [
        "fig, axes = plt.subplots(1, 3, figsize=(15, 5))\n",
        "\n",
        "# Population vs Life Expectancy\n",
        "axes[0].scatter(gap['pop'], gap['lifeExp'], alpha=0.6)\n",
        "axes[0].set_xlabel('Population')\n",
        "axes[0].set_ylabel('Life Expectancy')\n",
        "axes[0].set_title('Population vs Life Expectancy')\n",
        "\n",
        "# Year vs Life Expectancy\n",
        "axes[1].scatter(gap['year'], gap['lifeExp'], alpha=0.6)\n",
        "axes[1].set_xlabel('Year')\n",
        "axes[1].set_ylabel('Life Expectancy')\n",
        "axes[1].set_title('Year vs Life Expectancy')\n",
        "\n",
        "# GDP per Capita vs Life Expectancy\n",
        "axes[2].scatter(gap['gdpPercap'], gap['lifeExp'], alpha=0.6)\n",
        "axes[2].set_xlabel('GDP per Capita')\n",
        "axes[2].set_ylabel('Life Expectancy')\n",
        "axes[2].set_title('GDP per Capita vs Life Expectancy')\n",
        "\n",
        "plt.tight_layout()\n",
        "plt.show()"
      ]
    },
    {
      "cell_type": "markdown",
      "metadata": {},
      "source": [
        "We notice that the relationship between some of the variables and life expectancy are non-linear. We are going to focus on population size, because there is a particularly strong non-linear pattern in the data. There appear to be some groups in the data; let's plot the points colored by continent and country to see if there is a pattern:"
      ]
    },
    {
      "cell_type": "code",
      "execution_count": null,
      "metadata": {},
      "outputs": [],
      "source": [
        "fig, axes = plt.subplots(1, 2, figsize=(15, 6))\n",
        "\n",
        "# By continent\n",
        "for continent in gap['continent'].unique():\n",
        "    subset = gap[gap['continent'] == continent]\n",
        "    axes[0].scatter(subset['pop'], subset['lifeExp'], label=continent, alpha=0.6)\n",
        "axes[0].set_xlabel('Population')\n",
        "axes[0].set_ylabel('Life Expectancy')\n",
        "axes[0].set_title('Population vs Life Expectancy by Continent')\n",
        "axes[0].legend()\n",
        "\n",
        "# By country (too many to show legend)\n",
        "countries = gap['country'].unique()\n",
        "colors = plt.cm.tab20(np.linspace(0, 1, len(countries)))\n",
        "for i, country in enumerate(countries[:20]):  # Show only first 20 countries for clarity\n",
        "    subset = gap[gap['country'] == country]\n",
        "    axes[1].scatter(subset['pop'], subset['lifeExp'], color=colors[i], alpha=0.6, s=10)\n",
        "axes[1].set_xlabel('Population')\n",
        "axes[1].set_ylabel('Life Expectancy')\n",
        "axes[1].set_title('Population vs Life Expectancy by Country (first 20 countries)')\n",
        "\n",
        "plt.tight_layout()\n",
        "plt.show()"
      ]
    },
    {
      "cell_type": "markdown",
      "metadata": {},
      "source": [
        "We can see that the relationship varies by country and fitting one line to all of the countries is probably not a good idea. If this was a real analysis, there are additional steps we would take to address this issue, but the point of this exercise is that everything we just did to validate our model was not suggested by Copilot when we asked it to identify the drivers of life expectancy. If we had just gone along with what Copilot gave us, we may not have discovered the problem with population size. **Not all incorrect code will result in an error or warning, the most common and insidious code problems are silent**, which is why it is essential to understand what your code is doing. We had to use our knowledge as data scientists to guide our analysis. Copilot is still helpful for creating code to run our models, generate plots, etc., but we need to be the ones in the driver's seat. You are the expert!\n",
        "\n",
        "## Key Points\n",
        "\n",
        "Summary of what was learned in today's workshop:\n",
        "\n",
        "- Visual Studio Code is a code editor that has extensions to allow you to code in various languages (i.e., Python) and to use GitHub Copilot.\n",
        "\n",
        "- To chat with Copilot, you can open the chat by clicking `Ctrl + Shift + I` or `Cmd + Shift + I` or use the in-line chat feature (`Ctrl + I` or `Cmd + I`).\n",
        "\n",
        "- Copilot can provide suggestions as you type, based on the context of your code. Press `Tab` to accept a suggestion.\n",
        "\n",
        "- Copilot can help you clean-up your code and change repetitive code into functions.\n",
        "\n",
        "- Copilot is still learning and may not always provide the exact code you want. You may need to make changes to the code it provides. The more you use Copilot, the better it will get.\n",
        "\n",
        "For more information on using GitHub Copilot in VS Code, check out the official documentation, which includes many other helpful tips and tricks: https://code.visualstudio.com/docs/copilot/overview\n",
        "\n",
        "💡 **Tip**: If you have been going through this workshop in our GitHub Codespace and you want to download your edited file, right-click on the file you want to download (i.e. workshop.ipynb) in the `Explorer` panel on the left-hand side and click `Download...` (Note: you may have to click `Allow` on a security pop-up). If you are comfortable with Git, you can also fork this repository and commit your changes to your fork."
      ]
    }
  ],
  "metadata": {
    "kernelspec": {
      "display_name": "Python 3",
      "language": "python",
      "name": "python3"
    },
    "language_info": {
      "codemirror_mode": {
        "name": "ipython",
        "version": 3
      },
      "file_extension": ".py",
      "mimetype": "text/x-python",
      "name": "python",
      "nbconvert_exporter": "python",
      "pygments_lexer": "ipython3",
      "version": "3.8.5"
    }
  },
  "nbformat": 4,
  "nbformat_minor": 4
}
